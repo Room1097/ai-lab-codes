{
 "cells": [
  {
   "cell_type": "code",
   "execution_count": null,
   "metadata": {},
   "outputs": [],
   "source": [
    "import random\n",
    "\n",
    "def generate_k_sat_problem(n, m, k):\n",
    "    \"\"\"\n",
    "    Generates a random k-SAT problem.\n",
    "    \n",
    "    Args:\n",
    "    - n: Number of variables\n",
    "    - m: Number of clauses\n",
    "    - k: Clause length (k-SAT)\n",
    "    \n",
    "    Returns:\n",
    "    - A list of clauses representing the k-SAT formula.\n",
    "      Each clause is a list of literals (variables or their negation).\n",
    "    \"\"\"\n",
    "    problem = []\n",
    "    \n",
    "    for _ in range(m):\n",
    "        clause = []\n",
    "        variables = random.sample(range(1, n + 1), k)  # Pick k distinct variables\n",
    "        for var in variables:\n",
    "            if random.choice([True, False]):\n",
    "                clause.append(var)  # Non-negated variable\n",
    "            else:\n",
    "                clause.append(-var)  # Negated variable\n",
    "        problem.append(clause)\n",
    "    \n",
    "    return problem\n",
    "\n",
    "# Example usage\n",
    "n = 5  # Number of variables\n",
    "m = 10  # Number of clauses\n",
    "k = 3  # Clause length\n",
    "sat_problem = generate_k_sat_problem(n, m, k)\n",
    "print(sat_problem)\n"
   ]
  }
 ],
 "metadata": {
  "language_info": {
   "name": "python"
  }
 },
 "nbformat": 4,
 "nbformat_minor": 2
}
